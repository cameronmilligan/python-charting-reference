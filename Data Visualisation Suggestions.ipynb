{
 "cells": [
  {
   "cell_type": "markdown",
   "metadata": {},
   "source": [
    "# What would you like to show?\n",
    "### Exploring visualisations using matplotlib and seaborn"
   ]
  },
  {
   "cell_type": "markdown",
   "metadata": {},
   "source": [
    "1. <a href='#distribution'>Distribution</a> \n",
    "  1. <a href='#distribution-column'>Column Histogram</a>\n",
    "  2. <a href='#distribution-line'>Line Histogram</a>\n",
    "  3. <a href='#distribution-scatter'>Scatter Chart</a>\n",
    "  4. <a href='#distribution-3darea'>3D Area Chart</a>\n",
    "---\n",
    "2. <a href='#composition'>Composition</a>\n",
    "  1. <a href='#composition-stacked100column'>Stacked 100% Column Chart</a>\n",
    "  2. <a href='#composition-stackedcolumn'>Stacked Column Chart</a>\n",
    "  3. <a href='#composition-stacked100area'>Stacked 100% Area Chart</a>\n",
    "  4. <a href='#composition-stackedarea'>Stacked Area Chart</a>\n",
    "  5. <a href='#composition-pie'>Pie Chart</a>\n",
    "  6. <a href='#composition-waterfall'>Waterfall Chart</a>\n",
    "  7. <a href='#composition-stacked100columnwithsub'>Stacked 100% Column Chart with Subcomponents</a>\n",
    "---\n",
    "3. <a href='#relationship'>Relationship</a>\n",
    "  1. <a href='#relationship-scatter'>Scatter Chart</a>\n",
    "  2. <a href='#relationship-bubble'>Bubble Chart</a>\n",
    "---\n",
    "4. <a href='#comparison'>Comparison</a>\n",
    "  1. <a href='#comparison-variablecolumn'>Variable Width Column Chart</a>\n",
    "  2. <a href='#comparison-table'>Table or Table with Embedded Charts</a>\n",
    "  3. <a href='#comparison-bar'>Bar Chart</a>\n",
    "  4. <a href='#comparison-column1'>Column Chart</a>\n",
    "  5. <a href='#comparison-circular'>Circular Area Chart</a>\n",
    "  6. <a href='#comparison-line1'>Line Chart</a>\n",
    "  7. <a href='#comparison-column2'>Column Chart</a>\n",
    "  8. <a href='#comparison-line2'>Line Chart</a>\n"
   ]
  },
  {
   "cell_type": "markdown",
   "metadata": {},
   "source": [
    "![Image of Yaktocat](https://eazybi.com/static/img/blog_page/posts/2016_03_01/chart-selection-diagram.png)"
   ]
  },
  {
   "cell_type": "markdown",
   "metadata": {},
   "source": [
    "---"
   ]
  },
  {
   "cell_type": "markdown",
   "metadata": {},
   "source": [
    "<a id='distribution'></a>\n",
    "## Distibution"
   ]
  },
  {
   "cell_type": "markdown",
   "metadata": {},
   "source": [
    "<a id='distribution-column'></a>\n",
    "#### Column Histogram\n",
    "* Single Variable\n",
    "* Few Data Points"
   ]
  },
  {
   "cell_type": "markdown",
   "metadata": {},
   "source": [
    "<a id='distribution-line'></a>\n",
    "#### Line Histogram\n",
    "* Single Variable\n",
    "* Many Data Points"
   ]
  },
  {
   "cell_type": "markdown",
   "metadata": {},
   "source": [
    "<a id='distribution-scatter'></a>\n",
    "#### Scatter Chart\n",
    "* Two Variables"
   ]
  },
  {
   "cell_type": "markdown",
   "metadata": {},
   "source": [
    "<a id='distribution-3darea'></a>\n",
    "#### 3D Area Chart\n",
    "* Three Variables"
   ]
  },
  {
   "cell_type": "markdown",
   "metadata": {},
   "source": [
    "---"
   ]
  },
  {
   "cell_type": "markdown",
   "metadata": {},
   "source": [
    "<a id='composition'></a>\n",
    "## Composition"
   ]
  },
  {
   "cell_type": "markdown",
   "metadata": {},
   "source": [
    "<a id='composition-stacked100column'></a>\n",
    "#### Stacked 100% Column Chart\n",
    "* Changing Over Time\n",
    "* Few Periods\n",
    "* Only Relative Differences Matter"
   ]
  },
  {
   "cell_type": "markdown",
   "metadata": {},
   "source": [
    "<a id='composition-stackedcolumn'></a>\n",
    "#### Stacked Column Chart\n",
    "* Changing Over Time\n",
    "* Few Periods\n",
    "* Relative and Absolute Differences Matter"
   ]
  },
  {
   "cell_type": "markdown",
   "metadata": {},
   "source": [
    "<a id='composition-stacked100area'></a>\n",
    "#### Stacked 100% Area Chart\n",
    "* Changing Over Time\n",
    "* Many Periods\n",
    "* Only Relative Differences Matter"
   ]
  },
  {
   "cell_type": "markdown",
   "metadata": {},
   "source": [
    "<a id='composition-stackedarea'></a>\n",
    "#### Stacked Area Chart\n",
    "* Changing Over Time\n",
    "* Few Periods\n",
    "* Relative and Absolute Differences Matter"
   ]
  },
  {
   "cell_type": "markdown",
   "metadata": {},
   "source": [
    "<a id='composition-pie'></a>\n",
    "#### Pie Chart\n",
    "* Static\n",
    "* Simple Share of Total"
   ]
  },
  {
   "cell_type": "markdown",
   "metadata": {},
   "source": [
    "<a id='composition-waterfall'></a>\n",
    "#### Waterfall Chart\n",
    "* Static\n",
    "* Accumulation or Subtraction to Total"
   ]
  },
  {
   "cell_type": "markdown",
   "metadata": {},
   "source": [
    "<a id='composition-stacked100columnwithsub'></a>\n",
    "#### Stacked 100% Column Chart with Subcomponenets\n",
    "* Static\n",
    "* Components of Components"
   ]
  },
  {
   "cell_type": "markdown",
   "metadata": {},
   "source": [
    "---"
   ]
  },
  {
   "cell_type": "markdown",
   "metadata": {},
   "source": [
    "<a id='relationship'></a>\n",
    "## Relationship"
   ]
  },
  {
   "cell_type": "markdown",
   "metadata": {},
   "source": [
    "<a id='relationship-scatter'></a>\n",
    "#### Scatter Chart\n",
    "* Two Variables"
   ]
  },
  {
   "cell_type": "markdown",
   "metadata": {},
   "source": [
    "<a id='relationship-bubble'></a>\n",
    "#### Bubble Chart\n",
    "* Three Variables"
   ]
  },
  {
   "cell_type": "markdown",
   "metadata": {},
   "source": [
    "---"
   ]
  },
  {
   "cell_type": "markdown",
   "metadata": {},
   "source": [
    "## Comparison"
   ]
  },
  {
   "cell_type": "markdown",
   "metadata": {},
   "source": [
    "#### Variable Width Column Chart\n",
    "* Among Items\n",
    "* Two Variables per Item"
   ]
  },
  {
   "cell_type": "markdown",
   "metadata": {},
   "source": [
    "#### Table or Table with Embedded Charts\n",
    "* Among Items\n",
    "* One Variable Per Item\n",
    "* Many Categories"
   ]
  },
  {
   "cell_type": "markdown",
   "metadata": {},
   "source": [
    "#### Bar Chart\n",
    "* Among Items\n",
    "* One Variable per Item\n",
    "* Few Categories\n",
    "* Many Items"
   ]
  },
  {
   "cell_type": "markdown",
   "metadata": {},
   "source": [
    "#### Column Chart\n",
    "* Among Items\n",
    "* One Variable per Item\n",
    "* Few Categories\n",
    "* Few Items"
   ]
  },
  {
   "cell_type": "markdown",
   "metadata": {},
   "source": [
    "#### Circular Area Chart\n",
    "* Over Time\n",
    "* Many Periods\n",
    "* Cyclical Data"
   ]
  },
  {
   "cell_type": "markdown",
   "metadata": {},
   "source": [
    "#### Line Chart\n",
    "* Over Time\n",
    "* Many Periods\n",
    "* Non-Cyclical Data"
   ]
  },
  {
   "cell_type": "markdown",
   "metadata": {},
   "source": [
    "#### Column Chart\n",
    "* Over Time\n",
    "* Few Periods\n",
    "* Simple or Few Categories"
   ]
  },
  {
   "cell_type": "markdown",
   "metadata": {},
   "source": [
    "#### Line Chart\n",
    "* Over Time\n",
    "* Few Periods\n",
    "* Many Categories"
   ]
  },
  {
   "cell_type": "code",
   "execution_count": null,
   "metadata": {},
   "outputs": [],
   "source": []
  }
 ],
 "metadata": {
  "kernelspec": {
   "display_name": "Python 3",
   "language": "python",
   "name": "python3"
  },
  "language_info": {
   "codemirror_mode": {
    "name": "ipython",
    "version": 3
   },
   "file_extension": ".py",
   "mimetype": "text/x-python",
   "name": "python",
   "nbconvert_exporter": "python",
   "pygments_lexer": "ipython3",
   "version": "3.7.3"
  }
 },
 "nbformat": 4,
 "nbformat_minor": 2
}
